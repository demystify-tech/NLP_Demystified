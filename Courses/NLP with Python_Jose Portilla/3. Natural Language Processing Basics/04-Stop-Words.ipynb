{
 "cells": [
  {
   "cell_type": "markdown",
   "metadata": {},
   "source": [
    "# Stop Words\n",
    "Words like \"a\" and \"the\" appear so frequently that they don't require tagging as thoroughly as nouns, verbs and modifiers. We call these *stop words*, and they can be filtered from the text to be processed. spaCy holds a built-in list of some 326 English stop words."
   ]
  },
  {
   "cell_type": "code",
   "execution_count": 1,
   "metadata": {},
   "outputs": [],
   "source": [
    "# Perform standard imports:\n",
    "import spacy\n",
    "nlp = spacy.load('en_core_web_sm')"
   ]
  },
  {
   "cell_type": "code",
   "execution_count": 2,
   "metadata": {},
   "outputs": [
    {
     "name": "stdout",
     "output_type": "stream",
     "text": [
      "{'therefore', 'for', 'forty', 're', 'him', 'well', 'had', 'while', 'no', 'via', 'between', 'however', 'around', 'third', 'move', 'whenever', 'keep', 'anywhere', 'yourself', 'below', 'been', 'there', 'latter', 'thereupon', 'many', 'too', 'indeed', 'although', 'moreover', 'but', 'until', 'nor', 'becoming', 'though', 'what', 'yet', 'by', 'rather', 'hundred', \"'s\", 'others', 'per', 'mine', 'ever', 'nevertheless', 'afterwards', 'its', 'much', 'twelve', 'hereafter', 'as', '’d', 'anyway', 'hereby', 'those', 'thus', 'we', 'always', 'bottom', 'whom', 'less', '‘ve', 'itself', 'everywhere', 'further', 'please', 'whole', 'anyone', 'wherein', 'various', 'get', 'she', 'whereby', 'sometimes', 'behind', 'beforehand', 'three', '’s', 'besides', \"'ve\", 'again', '‘re', 'against', 'upon', 'if', 'hence', 'onto', 'using', 'few', '‘d', 'often', '’ll', 'go', 'only', 'whereas', 'unless', 'since', 'otherwise', 'throughout', 'above', 'take', 'due', 'they', 'would', 'someone', 'either', 'out', 'in', 'nine', 'meanwhile', 'make', 'being', '’m', 'and', 'fifty', 'who', 'down', \"'m\", 'one', 'nowhere', \"'re\", 'yourselves', 'everyone', 'herself', 'n’t', 'were', 'will', 'enough', 'our', 'without', 'become', 'full', 'when', 'n‘t', 'ca', 'yours', 'name', 'each', 'done', 'must', 'an', 'whereupon', 'wherever', '‘s', 'together', 'mostly', 'own', 'top', 'serious', 'most', 'latterly', 'this', 'whereafter', '‘ll', 'first', 'he', 'you', 'give', 'now', 'was', 'whoever', 'twenty', 'does', 'or', 'which', 'so', 'another', 'elsewhere', 'might', 'me', 'once', 'are', 'front', 'five', '’re', 'not', 'did', 'than', 'formerly', 'be', 'put', 'least', 'how', 'could', 'nothing', 'ten', 'where', 'still', 'themselves', 'ours', 'four', 'both', 'side', 'thereby', 'fifteen', 'back', 'used', 'of', 'whether', 'through', 'empty', 'alone', 'seem', 'eight', 'just', 'two', 'more', 'towards', 'any', 'amongst', 'beyond', 'neither', 'quite', 'everything', 'seems', \"'d\", 'about', 'can', 'amount', 'the', 'i', 'should', 'say', 'her', 'eleven', 'it', 'part', 'across', 'into', 'thru', 'nobody', 'every', 'within', 'us', 'show', 'do', 'other', 'after', 'except', 'some', 'last', 'their', 'all', 'sixty', 'almost', 'namely', 'along', 'same', 'your', 'during', 'over', 'regarding', 'off', 'a', 'myself', 'cannot', 'before', 'already', 'them', 'under', 'thereafter', 'at', 'my', 'never', 'several', \"'ll\", 'that', 'among', 'toward', 'becomes', 'then', 'none', 'up', 'whence', 'here', 'somehow', 'his', 'these', 'call', 'is', 'became', 'hers', 'sometime', 'has', 'therein', 'anyhow', 'whatever', 'have', 'perhaps', 'from', '’ve', 'may', 'seeming', \"n't\", 'really', 'himself', 'see', 'beside', 'such', 'whose', 'else', 'why', 'anything', 'next', 'somewhere', 'even', 'noone', 'because', 'thence', 'made', 'whither', 'doing', 'ourselves', 'six', '‘m', 'seemed', 'am', 'also', 'on', 'herein', 'former', 'very', 'with', 'hereupon', 'to', 'something'}\n"
     ]
    }
   ],
   "source": [
    "# Print the set of spaCy's default stop words (remember that sets are unordered):\n",
    "print(nlp.Defaults.stop_words)"
   ]
  },
  {
   "cell_type": "code",
   "execution_count": 3,
   "metadata": {},
   "outputs": [
    {
     "data": {
      "text/plain": [
       "326"
      ]
     },
     "execution_count": 3,
     "metadata": {},
     "output_type": "execute_result"
    }
   ],
   "source": [
    "len(nlp.Defaults.stop_words)"
   ]
  },
  {
   "cell_type": "markdown",
   "metadata": {},
   "source": [
    "## To see if a word is a stop word"
   ]
  },
  {
   "cell_type": "code",
   "execution_count": 4,
   "metadata": {},
   "outputs": [
    {
     "data": {
      "text/plain": [
       "True"
      ]
     },
     "execution_count": 4,
     "metadata": {},
     "output_type": "execute_result"
    }
   ],
   "source": [
    "nlp.vocab['myself'].is_stop"
   ]
  },
  {
   "cell_type": "code",
   "execution_count": 5,
   "metadata": {},
   "outputs": [
    {
     "data": {
      "text/plain": [
       "False"
      ]
     },
     "execution_count": 5,
     "metadata": {},
     "output_type": "execute_result"
    }
   ],
   "source": [
    "nlp.vocab['mystery'].is_stop"
   ]
  },
  {
   "cell_type": "markdown",
   "metadata": {},
   "source": [
    "## To add a stop word\n",
    "There may be times when you wish to add a stop word to the default set. Perhaps you decide that `'btw'` (common shorthand for \"by the way\") should be considered a stop word."
   ]
  },
  {
   "cell_type": "code",
   "execution_count": 6,
   "metadata": {},
   "outputs": [],
   "source": [
    "# Add the word to the set of stop words. Use lowercase!\n",
    "nlp.Defaults.stop_words.add('btw')\n",
    "\n",
    "# Set the stop_word tag on the lexeme\n",
    "nlp.vocab['btw'].is_stop = True"
   ]
  },
  {
   "cell_type": "code",
   "execution_count": 7,
   "metadata": {},
   "outputs": [
    {
     "data": {
      "text/plain": [
       "327"
      ]
     },
     "execution_count": 7,
     "metadata": {},
     "output_type": "execute_result"
    }
   ],
   "source": [
    "len(nlp.Defaults.stop_words)"
   ]
  },
  {
   "cell_type": "code",
   "execution_count": 8,
   "metadata": {},
   "outputs": [
    {
     "data": {
      "text/plain": [
       "True"
      ]
     },
     "execution_count": 8,
     "metadata": {},
     "output_type": "execute_result"
    }
   ],
   "source": [
    "nlp.vocab['btw'].is_stop"
   ]
  },
  {
   "cell_type": "markdown",
   "metadata": {},
   "source": [
    "When adding stop words, always use lowercase. Lexemes are converted to lowercase before being added to vocab."
   ]
  },
  {
   "cell_type": "code",
   "execution_count": 9,
   "metadata": {},
   "outputs": [
    {
     "data": {
      "text/plain": [
       "True"
      ]
     },
     "execution_count": 9,
     "metadata": {},
     "output_type": "execute_result"
    }
   ],
   "source": [
    "nlp.vocab['beyond'].is_stop"
   ]
  },
  {
   "cell_type": "markdown",
   "metadata": {},
   "source": [
    "## To remove a stop word\n",
    "Alternatively, you may decide that `'beyond'` should not be considered a stop word."
   ]
  },
  {
   "cell_type": "code",
   "execution_count": 10,
   "metadata": {},
   "outputs": [],
   "source": [
    "# Remove the word from the set of stop words\n",
    "nlp.Defaults.stop_words.remove('beyond')\n",
    "\n",
    "# Remove the stop_word tag from the lexeme\n",
    "nlp.vocab['beyond'].is_stop = False"
   ]
  },
  {
   "cell_type": "code",
   "execution_count": 11,
   "metadata": {},
   "outputs": [
    {
     "data": {
      "text/plain": [
       "326"
      ]
     },
     "execution_count": 11,
     "metadata": {},
     "output_type": "execute_result"
    }
   ],
   "source": [
    "len(nlp.Defaults.stop_words)"
   ]
  }
 ],
 "metadata": {
  "kernelspec": {
   "display_name": "Python 3",
   "language": "python",
   "name": "python3"
  },
  "language_info": {
   "codemirror_mode": {
    "name": "ipython",
    "version": 3
   },
   "file_extension": ".py",
   "mimetype": "text/x-python",
   "name": "python",
   "nbconvert_exporter": "python",
   "pygments_lexer": "ipython3",
   "version": "3.7.3"
  }
 },
 "nbformat": 4,
 "nbformat_minor": 2
}
